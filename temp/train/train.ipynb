{
 "cells": [
  {
   "cell_type": "code",
   "execution_count": 14,
   "metadata": {},
   "outputs": [
    {
     "name": "stdout",
     "output_type": "stream",
     "text": [
      "<class '__main__.Person'>\n",
      "<class '__main__.Program'>\n",
      "c++\n",
      "c++\n",
      "<class 'method'>\n",
      "soma\n"
     ]
    }
   ],
   "source": [
    "class Person:\n",
    "    def say_hello():\n",
    "        print(\"hello\")\n",
    "    def set_name(instance_obj , new_name):\n",
    "        instance_obj.name = new_name\n",
    "        print(instance_obj.name)\n",
    "\n",
    "p = Person()\n",
    "print(type(p))\n",
    "\n",
    "class Program:\n",
    "    language = \"c++\"\n",
    "    lines  = 900\n",
    "\n",
    "prog = Program()\n",
    "print(type(prog))\n",
    "print(Program.__dict__['language'])\n",
    "print(prog.language)\n",
    "p.say_hello\n",
    "print(type(p.say_hello))\n",
    "p.set_name(\"soma\")\n"
   ]
  },
  {
   "cell_type": "code",
   "execution_count": null,
   "metadata": {},
   "outputs": [],
   "source": []
  }
 ],
 "metadata": {
  "kernelspec": {
   "display_name": "Python 3.10.4 64-bit ('pytrain')",
   "language": "python",
   "name": "python3"
  },
  "language_info": {
   "codemirror_mode": {
    "name": "ipython",
    "version": 3
   },
   "file_extension": ".py",
   "mimetype": "text/x-python",
   "name": "python",
   "nbconvert_exporter": "python",
   "pygments_lexer": "ipython3",
   "version": "3.10.4"
  },
  "orig_nbformat": 4,
  "vscode": {
   "interpreter": {
    "hash": "089d6aa14e5c7491150b63bf65bc26f7455e526d5b0b7ac839b979333ceef960"
   }
  }
 },
 "nbformat": 4,
 "nbformat_minor": 2
}
